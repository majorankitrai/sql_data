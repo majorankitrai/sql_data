{
 "cells": [
  {
   "cell_type": "markdown",
   "id": "266b753f-9f14-4436-8c6c-ef17959c6a6d",
   "metadata": {},
   "source": [
    "# PgSQL with Python"
   ]
  },
  {
   "cell_type": "code",
   "execution_count": 1,
   "id": "8d67ea34-b687-4e6c-8a11-d5436ae52202",
   "metadata": {},
   "outputs": [],
   "source": [
    "import os"
   ]
  },
  {
   "cell_type": "code",
   "execution_count": 2,
   "id": "b886aab2-f6fb-4670-a3f8-28807204784f",
   "metadata": {},
   "outputs": [],
   "source": [
    "# Import pgsql library\n",
    "import psycopg2 as pg2"
   ]
  },
  {
   "cell_type": "code",
   "execution_count": 3,
   "id": "bea7fc19-9030-4b0d-ac51-672dc833b548",
   "metadata": {},
   "outputs": [],
   "source": [
    "# from dotenv import load_dotenv\n",
    "# load_dotenv()"
   ]
  },
  {
   "cell_type": "code",
   "execution_count": 4,
   "id": "adb49fdf-b0cc-4821-9ae9-bd2d3f760611",
   "metadata": {},
   "outputs": [],
   "source": [
    "# Load configuration without altering the environment\n",
    "from dotenv import dotenv_values\n",
    "config = dotenv_values(\".env\")"
   ]
  },
  {
   "cell_type": "code",
   "execution_count": 8,
   "id": "51ebdb09-f12a-4bfd-ab2c-f3c40eec6cbc",
   "metadata": {},
   "outputs": [],
   "source": [
    "# Unpack values from config dictionary\n",
    "db, user, password = config.values()"
   ]
  },
  {
   "cell_type": "code",
   "execution_count": 9,
   "id": "13f1f039-6841-4448-a46f-bc740557c7b8",
   "metadata": {},
   "outputs": [
    {
     "data": {
      "text/plain": [
       "'postgres'"
      ]
     },
     "execution_count": 9,
     "metadata": {},
     "output_type": "execute_result"
    }
   ],
   "source": [
    "user"
   ]
  },
  {
   "cell_type": "code",
   "execution_count": null,
   "id": "859339f8-6a28-42c8-a31c-1e9614ca00d2",
   "metadata": {},
   "outputs": [],
   "source": [
    "# Extablich a connection with the database\n",
    "conn = pg2.connect(database=db, user=user,password=password)"
   ]
  },
  {
   "cell_type": "code",
   "execution_count": null,
   "id": "10f2ef6b-aca8-4842-a30a-76974a82fe5b",
   "metadata": {},
   "outputs": [],
   "source": [
    "# Get a cursor off of that connection\n",
    "cur = conn.cursor()"
   ]
  },
  {
   "cell_type": "code",
   "execution_count": null,
   "id": "8f1a9f54-a926-43d2-ac36-043d50568e4b",
   "metadata": {},
   "outputs": [],
   "source": [
    "# With the cursor we can execute SQL queries\n",
    "# It is best practice to always add the entire string as an argument of the execute function\n",
    "cur.execute('SELECT * from payment')"
   ]
  },
  {
   "cell_type": "code",
   "execution_count": null,
   "id": "fd2871c9-a590-448c-bc6b-5b35c51a07de",
   "metadata": {},
   "outputs": [],
   "source": [
    "cur.fetchone()"
   ]
  },
  {
   "cell_type": "code",
   "execution_count": null,
   "id": "2770a385-ecac-4609-9094-9ff9bf7af391",
   "metadata": {},
   "outputs": [],
   "source": [
    "cur.fetchmany(2)"
   ]
  },
  {
   "cell_type": "code",
   "execution_count": null,
   "id": "483af916-2464-4eda-ae0c-fa6ac20dc426",
   "metadata": {},
   "outputs": [],
   "source": [
    "# Close the connection\n",
    "conn.close()"
   ]
  },
  {
   "cell_type": "markdown",
   "id": "baf87fc1-3834-4047-b138-65f9540eee8c",
   "metadata": {},
   "source": [
    "**DONE!**"
   ]
  }
 ],
 "metadata": {
  "kernelspec": {
   "display_name": "Python 3 (ipykernel)",
   "language": "python",
   "name": "python3"
  },
  "language_info": {
   "codemirror_mode": {
    "name": "ipython",
    "version": 3
   },
   "file_extension": ".py",
   "mimetype": "text/x-python",
   "name": "python",
   "nbconvert_exporter": "python",
   "pygments_lexer": "ipython3",
   "version": "3.8.10"
  }
 },
 "nbformat": 4,
 "nbformat_minor": 5
}
